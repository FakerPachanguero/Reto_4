{
  "nbformat": 4,
  "nbformat_minor": 0,
  "metadata": {
    "colab": {
      "provenance": [],
      "toc_visible": true,
      "authorship_tag": "ABX9TyM1FFzFAh0N7sujA6ycU8bz",
      "include_colab_link": true
    },
    "kernelspec": {
      "name": "python3",
      "display_name": "Python 3"
    },
    "language_info": {
      "name": "python"
    }
  },
  "cells": [
    {
      "cell_type": "markdown",
      "metadata": {
        "id": "view-in-github",
        "colab_type": "text"
      },
      "source": [
        "<a href=\"https://colab.research.google.com/github/FakerPachanguero/Reto_4/blob/main/Notebook_Reto_4.ipynb\" target=\"_parent\"><img src=\"https://colab.research.google.com/assets/colab-badge.svg\" alt=\"Open In Colab\"/></a>"
      ]
    },
    {
      "cell_type": "markdown",
      "source": [
        "# <div style=\"color: #FF5733;\">Repo N° 3</div>"
      ],
      "metadata": {
        "id": "8jtuecDu1Imz"
      }
    },
    {
      "cell_type": "markdown",
      "source": [
        "## En este repositorio podrás encontrar los siguientes programas escritos en python\n",
        "\n",
        "1. Determina si un número corresponde al codigo ASCII de una vocal minúcula\n",
        "2. Determina sí el codigo ASCII del primer carácter de una cadena es par o no.\n",
        "3. Determina sí el carácter es un digito.\n",
        "4. Determina si un número es positivo, negativo ó igual a cero.\n",
        "5. Determina sí un punto esta dentro de una circuferencia.\n",
        "6. Determina sí se puede formar un triángulo dadas tres longitudes positivas."
      ],
      "metadata": {
        "id": "v7GfVrIhQiAa"
      }
    },
    {
      "cell_type": "markdown",
      "source": [
        "1). Determina si un número corresponde al codigo ASCII de una vocal minúcula"
      ],
      "metadata": {
        "id": "AQf-W9GsQ_da"
      }
    },
    {
      "cell_type": "code",
      "execution_count": 6,
      "metadata": {
        "colab": {
          "base_uri": "https://localhost:8080/"
        },
        "id": "o0W9BKNzZJrK",
        "outputId": "0b8af5c5-ca6b-4d53-f1a5-3848da9d80e2"
      },
      "outputs": [
        {
          "output_type": "stream",
          "name": "stdout",
          "text": [
            "Escribe un Número entero: 117\n",
            "117 , Representa la vocal minúscula:  u  en codigo ASCII\n"
          ]
        }
      ],
      "source": [
        "#VARIABLES\n",
        "n : int\n",
        "n = int(input(\"Escribe un Número entero: \"))\n",
        "\n",
        "\n",
        "#CODE\n",
        "if n == 97 or n == 101 or n == 105 or n == 111 or n == 117 :\n",
        "    print( n, \", Representa la vocal minúscula: \", chr(n), \" en codigo ASCII\" )\n",
        "\n",
        "else:\n",
        "    print(n,\",no representa una vocal minuscula en codigo ASCII\")"
      ]
    },
    {
      "cell_type": "markdown",
      "source": [
        "2). Determina sí el codigo ASCII del primer carácter de una cadena es par o no."
      ],
      "metadata": {
        "id": "Ej-aLQteRDXm"
      }
    },
    {
      "cell_type": "code",
      "source": [
        "#VARIABLES\n",
        "n : str\n",
        "n = str(input(\"Escribe un carácter cualquiera: \"))\n",
        "\n",
        "#CODE\n",
        "\n",
        "if  ord(n[0]) % 2 == 0:\n",
        "\n",
        "    print(\"El carácter: \", n[0], \" Representa un número par en codigo ASCII\")\n",
        "\n",
        "else:\n",
        "    print(\"El carácter: \", n[0], \", NO representa un número par en codigo ASCII\")"
      ],
      "metadata": {
        "colab": {
          "base_uri": "https://localhost:8080/"
        },
        "id": "on7jdwCyet-2",
        "outputId": "5b92abeb-62ec-4cfa-f7c4-d6e1d5c5df4e"
      },
      "execution_count": 12,
      "outputs": [
        {
          "output_type": "stream",
          "name": "stdout",
          "text": [
            "Escribe un carácter cualquiera: 90\n",
            "El carácter:  9 , NO representa un número par en codigo ASCII\n"
          ]
        }
      ]
    },
    {
      "cell_type": "markdown",
      "source": [
        "3). Determina sí el primer carácter de una cadena es un digito."
      ],
      "metadata": {
        "id": "Iq0aEkyySNTN"
      }
    },
    {
      "cell_type": "code",
      "source": [
        "#VARIABLES\n",
        "n : str\n",
        "n = str(input(\"Escribe un carácter cualquiera: \"))\n",
        "\n",
        "\n",
        "#CODE\n",
        "\n",
        "if  ord(n[0]) >= 48 and ord(n[0]) <= 57:\n",
        "\n",
        "    print(\"El carácter: \", n[0], \" Representa un didito en codigo ASCII\")\n",
        "\n",
        "else:\n",
        "    print(\"El carácter: \", n[0], \" NO representa un digito par en codigo ASCII\")"
      ],
      "metadata": {
        "colab": {
          "base_uri": "https://localhost:8080/"
        },
        "id": "3Y8auv76fFDX",
        "outputId": "10402efb-cb77-45cc-86ef-6dd411cc79f7"
      },
      "execution_count": null,
      "outputs": [
        {
          "output_type": "stream",
          "name": "stdout",
          "text": [
            "Escribe un carácter cualquiera: 8\n",
            "El carácter:  8  Representa un didito en codigo ASCII\n"
          ]
        }
      ]
    },
    {
      "cell_type": "markdown",
      "source": [
        "4). Determina si un número es positivo, negativo ó igual a cero."
      ],
      "metadata": {
        "id": "KG_2Kh3iRIcO"
      }
    },
    {
      "cell_type": "code",
      "source": [
        "#VARIABLES\n",
        "n : float\n",
        "n = float(input(\"Escribe un Número natual: \"))\n",
        "\n",
        "#CODE\n",
        "\n",
        "if n > 0:\n",
        "   print(\"El número: \",f'\\'{n}\\'', \" es Positivo\" )\n",
        "elif n == 0:\n",
        "    print(\"El número: \",f'\\'{n}\\'', \" es el neutro para la suma\" )\n",
        "elif n < 0:\n",
        "    print(\"El número: \",f'\\'{n}\\'', \", es negativo\" )"
      ],
      "metadata": {
        "colab": {
          "base_uri": "https://localhost:8080/"
        },
        "id": "YQvGixx-pTrT",
        "outputId": "a06e8176-63f6-4c9f-cab5-46621dccc91b"
      },
      "execution_count": 19,
      "outputs": [
        {
          "output_type": "stream",
          "name": "stdout",
          "text": [
            "Escribe un Número natual: 3.5\n",
            "El número:  '3.5'  es Positivo\n"
          ]
        }
      ]
    },
    {
      "cell_type": "markdown",
      "source": [
        "5). Determina sí un punto esta dentro de una circuferencia."
      ],
      "metadata": {
        "id": "unMUOqo0RLLl"
      }
    },
    {
      "cell_type": "code",
      "source": [
        "\n",
        "#* VARIABLES\n",
        "\n",
        "# Distancia del centro de la circuferencia y la coordenada del punto.\n",
        "d : int = 0\n",
        "\n",
        "# Radio de la circuferencia\n",
        "r = int(input(\"Escribe el radio de la circuferencia: \"))\n",
        "\n",
        "# Coordenadas del centro de la circuferencia\n",
        "# k = a la corrdenada x ; h = a la coordenda y\n",
        "h : float = float(input(\"Escribe la coordenada x, de la circuferencia: \"))\n",
        "k : float = float(input(\"Escribe la coordenada y, de la circuferencia: \"))\n",
        "\n",
        "# Coordenadas del punto\n",
        "x : float = float(input(\"Escribe la coordenada x, del punto: \"))\n",
        "y : float = float(input(\"Escribe la coordenada y, del punto: \"))\n",
        "\n",
        "\n",
        "#* CODE\n",
        "# Fórmula: calculo de la distancia entre dos puntos, de la forma euclidiana\n",
        "d = (((x-h)**2)+((y-k)**2))**0.5\n",
        "\n",
        "if d <= r:\n",
        "    print(\"El punto esta dentro de la circuferencia\")\n",
        "else:\n",
        "    print(\"El punto NO se encuntra dentro de la circuferencia\")"
      ],
      "metadata": {
        "colab": {
          "base_uri": "https://localhost:8080/"
        },
        "id": "XmXue9_etgOl",
        "outputId": "4d60bf96-b6c9-48e8-cc19-3fc1073d000f"
      },
      "execution_count": null,
      "outputs": [
        {
          "output_type": "stream",
          "name": "stdout",
          "text": [
            "Escribe el radio de la circuferencia: 8\n",
            "Escribe la coordenada x, de la circuferencia: 0\n",
            "Escribe la coordenada y, de la circuferencia: 0\n",
            "Escribe la coordenada x, del punto: 8\n",
            "Escribe la coordenada y, del punto: 0\n",
            "El punto esta dentro de la circuferencia\n"
          ]
        }
      ]
    },
    {
      "cell_type": "markdown",
      "source": [
        "6). Determina sí se puede formar un triángulo dadas tres longitudes positivas.\n"
      ],
      "metadata": {
        "id": "-xm2e19nRNvA"
      }
    },
    {
      "cell_type": "code",
      "source": [
        "\n",
        "#VARIABLES\n",
        "edge_a : float = float(input(\"Longitud del lado a: \"))\n",
        "edge_b : float = float(input(\"Longitud del lado b: \"))\n",
        "edge_c : float = float(input(\"Longitud del lado c: \"))\n",
        "\n",
        "t : bool = True\n",
        "\n",
        "\n",
        "#CODE\n",
        "t = edge_a + edge_b > edge_c\n",
        "\n",
        "if t == True:\n",
        "    edge_a + edge_c > edge_b\n",
        "\n",
        "    if t == True:\n",
        "        t = edge_b + edge_c > edge_a\n",
        "\n",
        "        if t == True:\n",
        "            print(\"Se puede formar un triangulo con los lados proporcionados\")\n",
        "        else:\n",
        "            print(\"No se puede formar un triangulo con las medidas dadas\")\n",
        "\n",
        "else:\n",
        "    print(\"No se puede formar un triangulo con las medidas dadas\")"
      ],
      "metadata": {
        "id": "Qs8JyB54pMSZ",
        "outputId": "b7f90a59-727e-489d-83dd-78d1de6da166",
        "colab": {
          "base_uri": "https://localhost:8080/"
        }
      },
      "execution_count": null,
      "outputs": [
        {
          "output_type": "stream",
          "name": "stdout",
          "text": [
            "Longitud del lado a: 8\n",
            "Longitud del lado b: 7\n",
            "Longitud del lado c: 9\n",
            "Se puede formar un triangulo con los lados proporcionados\n"
          ]
        }
      ]
    }
  ]
}